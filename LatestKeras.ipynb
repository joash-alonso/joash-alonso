{
  "nbformat": 4,
  "nbformat_minor": 0,
  "metadata": {
    "colab": {
      "provenance": [],
      "authorship_tag": "ABX9TyOKjRygr8QhRSqhxwlYnv7c",
      "include_colab_link": true
    },
    "kernelspec": {
      "name": "python3",
      "display_name": "Python 3"
    },
    "language_info": {
      "name": "python"
    }
  },
  "cells": [
    {
      "cell_type": "markdown",
      "metadata": {
        "id": "view-in-github",
        "colab_type": "text"
      },
      "source": [
        "<a href=\"https://colab.research.google.com/github/joash-alonso/joash-alonso/blob/main/LatestKeras.ipynb\" target=\"_parent\"><img src=\"https://colab.research.google.com/assets/colab-badge.svg\" alt=\"Open In Colab\"/></a>"
      ]
    },
    {
      "cell_type": "code",
      "execution_count": null,
      "metadata": {
        "colab": {
          "base_uri": "https://localhost:8080/"
        },
        "id": "BN5o2V3pqxKY",
        "outputId": "d34582e9-3b41-45c2-c5b8-83e18b96fefd"
      },
      "outputs": [
        {
          "output_type": "stream",
          "name": "stdout",
          "text": [
            "\u001b[2K     \u001b[90m━━━━━━━━━━━━━━━━━━━━━━━━━━━━━━━━━━━━━━━\u001b[0m \u001b[32m590.1/590.1 kB\u001b[0m \u001b[31m5.1 MB/s\u001b[0m eta \u001b[36m0:00:00\u001b[0m\n",
            "\u001b[2K     \u001b[90m━━━━━━━━━━━━━━━━━━━━━━━━━━━━━━━━━━━━━━\u001b[0m \u001b[32m950.8/950.8 kB\u001b[0m \u001b[31m14.4 MB/s\u001b[0m eta \u001b[36m0:00:00\u001b[0m\n",
            "\u001b[2K     \u001b[90m━━━━━━━━━━━━━━━━━━━━━━━━━━━━━━━━━━━━━━━━\u001b[0m \u001b[32m6.5/6.5 MB\u001b[0m \u001b[31m36.3 MB/s\u001b[0m eta \u001b[36m0:00:00\u001b[0m\n",
            "\u001b[?25h"
          ]
        }
      ],
      "source": [
        "!pip install -q keras-nlp"
      ]
    },
    {
      "cell_type": "code",
      "source": [
        "import os\n",
        "\n",
        "os.environ[\"KERAS_BACKEND\"] = \"tensorflow\"\n",
        "\n",
        "import keras_nlp\n",
        "import numpy as np\n",
        "import tensorflow as tf\n",
        "import keras_core as keras\n",
        "from typing import Tuple, Dict\n",
        "\n",
        "physical_devices = tf.config.list_physical_devices(\"GPU\")\n",
        "physical_devices"
      ],
      "metadata": {
        "colab": {
          "base_uri": "https://localhost:8080/"
        },
        "id": "IZu5bfGyq9Vt",
        "outputId": "723d9ac5-d504-44d3-edc0-85ede9771108"
      },
      "execution_count": null,
      "outputs": [
        {
          "output_type": "stream",
          "name": "stdout",
          "text": [
            "Using TensorFlow backend\n"
          ]
        },
        {
          "output_type": "execute_result",
          "data": {
            "text/plain": [
              "[]"
            ]
          },
          "metadata": {},
          "execution_count": 2
        }
      ]
    },
    {
      "cell_type": "code",
      "source": [
        "# Download pretraining data.\n",
        "keras.utils.get_file(\n",
        "    origin=\"https://s3.amazonaws.com/research.metamind.io/wikitext/wikitext-103-raw-v1.zip\",\n",
        "    extract=True,\n",
        ")\n",
        "wiki_dir = os.path.expanduser(\"~/.keras/datasets/wikitext-103-raw/\")\n",
        "\n",
        "# Download finetuning data.\n",
        "keras.utils.get_file(\n",
        "    origin=\"https://dl.fbaipublicfiles.com/glue/data/SST-2.zip\",\n",
        "    extract=True,\n",
        ")\n",
        "sst_dir = os.path.expanduser(\"~/.keras/datasets/SST-2/\")\n",
        "\n",
        "# Download vocabulary data.\n",
        "vocab_file = keras.utils.get_file(\n",
        "    origin=\"https://storage.googleapis.com/tensorflow/keras-nlp/examples/bert/bert_vocab_uncased.txt\",\n",
        ")"
      ],
      "metadata": {
        "colab": {
          "base_uri": "https://localhost:8080/"
        },
        "id": "vzvpjlN5rA2K",
        "outputId": "76163dd2-b03b-46bb-c692-91d959f4d6b1"
      },
      "execution_count": null,
      "outputs": [
        {
          "output_type": "stream",
          "name": "stdout",
          "text": [
            "Downloading data from https://s3.amazonaws.com/research.metamind.io/wikitext/wikitext-103-raw-v1.zip\n",
            "\u001b[1m191984949/191984949\u001b[0m \u001b[32m━━━━━━━━━━━━━━━━━━━━\u001b[0m\u001b[37m\u001b[0m \u001b[1m9s\u001b[0m 0us/step\n",
            "Downloading data from https://dl.fbaipublicfiles.com/glue/data/SST-2.zip\n",
            "\u001b[1m7439277/7439277\u001b[0m \u001b[32m━━━━━━━━━━━━━━━━━━━━\u001b[0m\u001b[37m\u001b[0m \u001b[1m0s\u001b[0m 0us/step\n",
            "Downloading data from https://storage.googleapis.com/tensorflow/keras-nlp/examples/bert/bert_vocab_uncased.txt\n",
            "\u001b[1m231508/231508\u001b[0m \u001b[32m━━━━━━━━━━━━━━━━━━━━\u001b[0m\u001b[37m\u001b[0m \u001b[1m0s\u001b[0m 1us/step\n"
          ]
        }
      ]
    },
    {
      "cell_type": "code",
      "source": [
        "# Preprocessing params.\n",
        "PRETRAINING_BATCH_SIZE = 128\n",
        "FINETUNING_BATCH_SIZE = 32\n",
        "SEQ_LENGTH = 128\n",
        "MASK_RATE = 0.25\n",
        "PREDICTIONS_PER_SEQ = 32"
      ],
      "metadata": {
        "id": "lZcmnfLWrC23"
      },
      "execution_count": null,
      "outputs": []
    },
    {
      "cell_type": "code",
      "source": [
        "# Load SST-2.\n",
        "sst_train_ds = tf.data.experimental.CsvDataset(\n",
        "    sst_dir + \"train.tsv\", [tf.string, tf.int32], header=True, field_delim=\"\\t\"\n",
        ").batch(FINETUNING_BATCH_SIZE)\n",
        "\n",
        "sst_val_ds = tf.data.experimental.CsvDataset(\n",
        "    sst_dir + \"dev.tsv\", [tf.string, tf.int32], header=True, field_delim=\"\\t\"\n",
        ").batch(FINETUNING_BATCH_SIZE)\n",
        "\n",
        "# Load wikitext-103 and filter out short lines.\n",
        "wiki_train_ds = (\n",
        "    tf.data.TextLineDataset(wiki_dir + \"wiki.train.raw\")\n",
        "    .filter(lambda x: tf.strings.length(x) > 100)\n",
        "    .batch(PRETRAINING_BATCH_SIZE)\n",
        ")\n",
        "\n",
        "wiki_val_ds = (\n",
        "    tf.data.TextLineDataset(wiki_dir + \"wiki.valid.raw\")\n",
        "    .filter(lambda x: tf.strings.length(x) > 100)\n",
        "    .batch(PRETRAINING_BATCH_SIZE)\n",
        ")\n",
        "\n",
        "# Take a peak at the sst-2 dataset.\n",
        "print(sst_train_ds.unbatch().batch(4).take(1).get_single_element())"
      ],
      "metadata": {
        "colab": {
          "base_uri": "https://localhost:8080/"
        },
        "id": "5o1ipUogrHNi",
        "outputId": "361380c9-e021-4256-a24a-88275f63c0b2"
      },
      "execution_count": null,
      "outputs": [
        {
          "output_type": "stream",
          "name": "stdout",
          "text": [
            "(<tf.Tensor: shape=(4,), dtype=string, numpy=\n",
            "array([b'hide new secretions from the parental units ',\n",
            "       b'contains no wit , only labored gags ',\n",
            "       b'that loves its characters and communicates something rather beautiful about human nature ',\n",
            "       b'remains utterly satisfied to remain the same throughout '],\n",
            "      dtype=object)>, <tf.Tensor: shape=(4,), dtype=int32, numpy=array([0, 0, 1, 0], dtype=int32)>)\n"
          ]
        }
      ]
    },
    {
      "cell_type": "code",
      "source": [
        "tokenizer = keras_nlp.tokenizers.WordPieceTokenizer(\n",
        "    vocabulary=vocab_file,\n",
        "    sequence_length=SEQ_LENGTH,\n",
        "    strip_accents=True,\n",
        "    lowercase=True\n",
        ")\n",
        "\n",
        "masker = keras_nlp.layers.MaskedLMMaskGenerator(\n",
        "    vocabulary_size=tokenizer.vocabulary_size(),\n",
        "    mask_selection_rate=MASK_RATE,\n",
        "    mask_token_id=tokenizer.token_to_id('[MASK]'),\n",
        "    mask_selection_length=1\n",
        ")"
      ],
      "metadata": {
        "id": "aWauJBj9rIwH"
      },
      "execution_count": null,
      "outputs": []
    },
    {
      "cell_type": "code",
      "source": [
        "X_train = wiki_train_ds.map(lambda x: tokenizer.tokenize(x))\n",
        "\n",
        "def preprocess(input):\n",
        "  values = masker(input)\n",
        "  token_ids, masked_positions, masked_ids, mask_weights = values['token_ids'], values['mask_positions'], values['mask_ids'], values['mask_weights']\n",
        "  return token_ids, masked_ids[:, 0]\n",
        "\n",
        "masked_dict = X_train.map(lambda x: preprocess(x))\n",
        "\n",
        "# X = tf.TensorArray(dynamic_size=True, dtype=tf.int32, size=0)\n",
        "# y = tf.TensorArray(dynamic_size=True, dtype=tf.int32, size=0)\n",
        "# for Xs, ys in masked_dict.unbatch():\n",
        "#   X = X.write(X.size(), Xs)\n",
        "#   y = y.write(y.size(), ys[0])\n",
        "\n",
        "# X = tf.stack(X.stack(), axis=0)\n",
        "# y = tf.stack(y.stack(), axis=0)"
      ],
      "metadata": {
        "id": "4nIlRX0krLU4"
      },
      "execution_count": null,
      "outputs": []
    },
    {
      "cell_type": "code",
      "source": [
        "masked_dict.take(1).get_single_element()"
      ],
      "metadata": {
        "colab": {
          "base_uri": "https://localhost:8080/"
        },
        "id": "FJD41KAjsoYy",
        "outputId": "5a619df1-6b9d-4a25-d035-58a5932e297f"
      },
      "execution_count": null,
      "outputs": [
        {
          "output_type": "execute_result",
          "data": {
            "text/plain": [
              "(<tf.Tensor: shape=(128, 128), dtype=int32, numpy=\n",
              " array([[12411,  5558,  2053, ...,  1037, 18476,  2510],\n",
              "        [ 1996,  2208,  2211, ...,     0,     0,     0],\n",
              "        [ 2009,  2777,  2007, ...,     0,     0,     0],\n",
              "        ...,\n",
              "        [ 1996,  3103, 27184, ...,  2000,  1996,  3692],\n",
              "        [ 1996,  4592,  3681, ...,     0,     0,     0],\n",
              "        [  103,  2045,  1005, ...,  2062,  2004, 16781]], dtype=int32)>,\n",
              " <tf.Tensor: shape=(128,), dtype=int32, numpy=\n",
              " array([ 2890,  1012,  1024,  3523,  2169,  1012,  2025,  1012,  2004,\n",
              "         2147,  2208,  3517,  2000,  1010,  3523,  3893,  3674,  1005,\n",
              "         2007,  2000,  2011,  3540,  1996,  1997,  2508,  2600,  2031,\n",
              "         3099,  2033,  2010,  3167,  1998, 25970,  2013,  1010,  4255,\n",
              "         2079,  9922,  2020,  1996,  8055,  1010, 18031,  1010,  9433,\n",
              "         2035, 12872,  2044,  2011,  2141,  5684,  1012,  2734,  4585,\n",
              "        13267,  2381,  2212,  2147,  1037, 16607,  2006,  2020,  1010,\n",
              "         1012,  1030,  1049,  2005,  1055,  8867,  1998,  1998,  2388,\n",
              "         2044,  2578,  1037,  3311,  2844,  1010,  2640,  1012,  1997,\n",
              "         2308,  2018,  2308,  1999,  1012,  1999,  2009,  2024,  1000,\n",
              "         6895,  1015,  2003,  1998,  2078,  3560,  2023,  1015,  3119,\n",
              "         2001,  1012,  1997,  2208,  1015,  1010,  6708,  3319,  1996,\n",
              "         1030,  2006,  1010,  2597,  1012,  2108,  4591,  1012, 14796,\n",
              "         2000,  3029, 17403,  6295,  1996, 18721,  3620,  5856,  4701,\n",
              "         1010,  1000], dtype=int32)>)"
            ]
          },
          "metadata": {},
          "execution_count": 67
        }
      ]
    },
    {
      "cell_type": "code",
      "source": [],
      "metadata": {
        "id": "OKLjHhLq2tgL"
      },
      "execution_count": null,
      "outputs": []
    },
    {
      "cell_type": "code",
      "source": [],
      "metadata": {
        "id": "LYQbA2OY2tmo"
      },
      "execution_count": null,
      "outputs": []
    },
    {
      "cell_type": "code",
      "source": [],
      "metadata": {
        "id": "OxPwwl0VrOLT"
      },
      "execution_count": null,
      "outputs": []
    }
  ]
}